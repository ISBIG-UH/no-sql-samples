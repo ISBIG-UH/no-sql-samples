{
 "cells": [
  {
   "cell_type": "code",
   "execution_count": 1,
   "id": "cdc4fbd4-345d-433c-81ea-729025e9da2e",
   "metadata": {},
   "outputs": [],
   "source": [
    "from neo4j import GraphDatabase, basic_auth\n",
    "\n",
    "driver = GraphDatabase.driver(\n",
    "  \"bolt://graphs-neo4j:7687\",\n",
    "  auth=basic_auth(\"neo4j\", \"password\"))"
   ]
  },
  {
   "cell_type": "markdown",
   "id": "4da07e15-56a1-49b6-99f9-914f3e417b74",
   "metadata": {},
   "source": [
    "## Consultas básicas\n",
    "\n",
    "La consulta de lectura básica de Cypher se compone de las cláusulas:\n",
    "\n",
    "- `MATCH`: Especifica el patrón a recuperar en el grafo, es la cláusula análoga a `FROM` en SQL\n",
    "- `WHERE`: Especifica los filtros a aplicar sobre los resultados obtenidos en `MATCH`\n",
    "- `RETURN`: Especifica la estructura de los datos retornados, es la cláusula análoga a `SELECT` en SQL\n"
   ]
  },
  {
   "cell_type": "code",
   "execution_count": null,
   "id": "2d3b64a0-195c-48ff-86a9-a8751b350e77",
   "metadata": {},
   "outputs": [],
   "source": [
    "MATCH (n:User) WHERE n.screen_name = 'NASA' RETURN n; "
   ]
  },
  {
   "cell_type": "code",
   "execution_count": null,
   "id": "3abcbb63-10f0-4b81-8a3b-25c7a824202c",
   "metadata": {},
   "outputs": [],
   "source": [
    "MATCH (n:User) - [r] - (m) WHERE n.screen_name = 'NASA' RETURN m;"
   ]
  },
  {
   "cell_type": "code",
   "execution_count": null,
   "id": "41ef16d0-4ad3-44d2-bea1-9f0ccfb3e10c",
   "metadata": {},
   "outputs": [],
   "source": [
    "MATCH (n:User) - [r:FOLLOWS] - (m) WHERE n.screen_name = 'NASA' RETURN m;"
   ]
  },
  {
   "cell_type": "code",
   "execution_count": null,
   "id": "0cd909e5-63ec-4435-afe9-5ceff076ffbc",
   "metadata": {},
   "outputs": [],
   "source": [
    "MATCH (n:User) <- [r:FOLLOWS] - (m:User) WHERE n.screen_name = 'neo4j' RETURN m;"
   ]
  },
  {
   "cell_type": "markdown",
   "id": "35903739-af1c-485a-9ece-0e09013f6ea3",
   "metadata": {},
   "source": [
    "En Cypher se pueden combinar consultas utilizando variables definidas en una cláusula `MATCH` en otra clásula\n",
    "`MATCH` posterior."
   ]
  },
  {
   "cell_type": "code",
   "execution_count": null,
   "id": "1286fd8f-96c8-48d0-b02c-abb2cda97419",
   "metadata": {},
   "outputs": [],
   "source": [
    "MATCH (y1) -- (x:User {screen_name: 'NASA'}) -- (y2) MATCH (y1) -[r]->(y2) RETURN r;"
   ]
  },
  {
   "cell_type": "markdown",
   "id": "22b22acc-409c-4f85-98f3-301269316371",
   "metadata": {},
   "source": [
    "## CRUD\n",
    "\n",
    "Para crear un vértice se declara una variable para el vértice y se definen sus propiedades en forma de diccionario utilizando la cláusula `CREATE`"
   ]
  },
  {
   "cell_type": "code",
   "execution_count": null,
   "id": "1bfdfeaa-f1ac-4499-910a-635b91483914",
   "metadata": {},
   "outputs": [],
   "source": [
    "CREATE (n:User {name: 'test', screen_name: 'test'})"
   ]
  },
  {
   "cell_type": "markdown",
   "id": "cd3d9c95-7482-499f-896b-f6460bf3370e",
   "metadata": {},
   "source": [
    "Cuando se utiliza `CREATE` el sistema no busca elementos ya existentes en el grafo sino que intenta crear todo el patrón desde cero."
   ]
  },
  {
   "cell_type": "code",
   "execution_count": null,
   "id": "99343e8d-4fc4-47ff-b931-b1443488a9cd",
   "metadata": {},
   "outputs": [],
   "source": [
    "CREATE (n:User {name: 'test', screen_name: 'test'}) - [r:POSTS] -> (t:Tweet {text: 'hello there'})"
   ]
  },
  {
   "cell_type": "markdown",
   "id": "de1f83e2-3c1e-4f84-b902-e60dac9c23d0",
   "metadata": {},
   "source": [
    "Para que el sistema busque elementos existentes en el patrón se debe utilizar la clásula `MATCH` junto con la cláusula `CREATE`"
   ]
  },
  {
   "cell_type": "code",
   "execution_count": null,
   "id": "b8e16023-2bcd-4444-b296-484460b00f15",
   "metadata": {},
   "outputs": [],
   "source": [
    "MATCH (n:User {name: 'test', screen_name: 'test'}) CREATE (n) - [r:POSTS] -> (t:Tweet {text: 'hello there'})"
   ]
  },
  {
   "cell_type": "markdown",
   "id": "ce08d90a-35e7-4c41-b349-b99f800598d9",
   "metadata": {},
   "source": [
    "Para actualizar elementos se utiliza la cláusula `WHERE` aplicada a los elementos definidos en la consulta `MATCH`"
   ]
  },
  {
   "cell_type": "code",
   "execution_count": null,
   "id": "d994d8de-8a3c-437e-8610-69478e706377",
   "metadata": {},
   "outputs": [],
   "source": [
    "MATCH (n:User {name: 'test', screen_name: 'test'}) SET n.name = 'test modified'"
   ]
  },
  {
   "cell_type": "markdown",
   "id": "b0c66633-8ca1-4eaa-8fca-9a499095778d",
   "metadata": {},
   "source": [
    "Para eliminar se utiliza la cláusula `DELETE`, nótese que debido a la integridad referencial por defecto no se eliminan vértices que tienen aristas y las aristas deben ser eliminadas manualmente por el usuario. Para eliminar las aristas en cascada se puede utilizar la\n",
    "cláusula `DETACH`"
   ]
  },
  {
   "cell_type": "code",
   "execution_count": null,
   "id": "50cef6bc-bfe2-435e-b4c2-64de66725797",
   "metadata": {},
   "outputs": [],
   "source": [
    "MATCH (n:User {screen_name: 'test'}) [DETACH] DELETE n;"
   ]
  },
  {
   "cell_type": "markdown",
   "id": "df442bf6-acec-4779-bb02-1f992397132a",
   "metadata": {},
   "source": [
    "## Consultas avanzadas\n",
    "\n",
    "Cypher provee varias de las cláusulas existentes en SQL como `ORDER BY`, `LIMIT`, `SKIP`, etc. Además existent las funciones de agregación comunes como `COUNT`, `SUM`, `AVG`, etc. "
   ]
  },
  {
   "cell_type": "code",
   "execution_count": null,
   "id": "6801614d-c154-4c77-8d57-2bdbe6ecc0a7",
   "metadata": {},
   "outputs": [],
   "source": [
    "MATCH (u:User {screen_name: 'neo4j'})<-[r:MENTIONS]-(t:Tweet)-[r2:TAGS]->(h:Hashtag)\n",
    "RETURN h.name as hashtag, COUNT(t)\n",
    "ORDER BY COUNT(t) DESC"
   ]
  },
  {
   "cell_type": "markdown",
   "id": "34cab230-b9eb-40fc-aaa4-b448f30a0cf6",
   "metadata": {},
   "source": [
    "Cypher permite buscar caminos dentro del grafo utilizando el operador `*n` donde `n` es la longitud del camino buscado, este operador\n",
    "se aplica sobre las aristas"
   ]
  },
  {
   "cell_type": "code",
   "execution_count": null,
   "id": "e69697dc-2952-40cf-8de8-67c374188638",
   "metadata": {},
   "outputs": [],
   "source": [
    "MATCH p=(n:Tweet {id: 1370785056361381889})<-[:REPLY_TO*]-(:Tweet)\n",
    "WITH collect(RELATIONSHIPS(p)) AS rel_list\n",
    "UNWIND rel_list AS list\n",
    "UNWIND list AS link\n",
    "WITH DISTINCT(link)\n",
    "RETURN startNode(link), link, endNode(link)"
   ]
  }
 ],
 "metadata": {
  "kernelspec": {
   "display_name": "Python 3 (ipykernel)",
   "language": "python",
   "name": "python3"
  },
  "language_info": {
   "codemirror_mode": {
    "name": "ipython",
    "version": 3
   },
   "file_extension": ".py",
   "mimetype": "text/x-python",
   "name": "python",
   "nbconvert_exporter": "python",
   "pygments_lexer": "ipython3",
   "version": "3.11.6"
  }
 },
 "nbformat": 4,
 "nbformat_minor": 5
}
